{
 "cells": [
  {
   "cell_type": "markdown",
   "metadata": {
    "id": "SrVx-zkD4HUj"
   },
   "source": [
    "# Assignment 2: Linear regression {-}\n",
    "\n",
    "This assignment aims at familiarizing you with the use of Linear Regression model supported by scikit-learn. You will have to do:\n",
    "\n",
    "1.  **(5 points) Coding Tasks:** The following questions involve writing code to complete specific tasks.  \n",
    "    1.1 *(1 point)* Analyze the dataset using libraries like Pandas and Matplotlib.  \n",
    "    1.2 *(1 point)* Preprocess the data for modeling.  \n",
    "    1.3 *(1 point)* Divide the data into training and test sets with a suitable ratio (e.g., 80/20) to ensure unbiased model evaluation.  \n",
    "    1.4 *(1 point)* Train a Linear Regression model on the training set.    \n",
    "    1.5 *(1 point)* Evaluate the model performance on the test set.  \n",
    "\n",
    "2.  **(5 points) Open discussion questions:** These discussion questions ask you to analyze and argue your points.  Feel free to include relevant code examples to strengthen your arguments.  \n",
    "    2.1 *(1 point)* Does income or income stability have a stronger influence on the loan sanction amount? For example, analyze the data to see if a higher income or a \"High\" income stability rating leads to a greater loan approval amount.  \n",
    "    2.2 *(1 point)* Is there a significant difference in loan amounts based on property location? For example, compare the average loan amounts for properties in rural, urban, and semi-urban locations.  \n",
    "    2.3 *(1 point)* Is there a gender bias in loan approvals? For example, investigate if there is a difference in average loan amounts offered to male and female applicants.  \n",
    "    2.4 *(1 point)* Are there any new features you could create from the existing data (e.g., loan-to-value ratio) that might be useful for analyzing loan amounts?  \n",
    "    2.5 *(1 point)* Beyond loan amount prediction, what other insights can be extracted or predicted from this dataset? For example, explore possibilities of using the data to understand borrower behavior, property market trends, or develop targeted marketing strategies.  \n",
    "\n",
    "\n",
    "The dataset you will be working on is 'house-loan.csv'. It is composed of attributes such as gender, age, income, etc. This dataset is to predict the loan amount for which a customer can request a bank with his/her collateral house.\n",
    "\n",
    "### Submission {-}\n",
    "The structure of submission folder should be organized as follows:\n",
    "\n",
    "- ./\\<StudentID>-assignment2-notebook.ipynb: Jupyter notebook containing source code.\n",
    "\n",
    "The submission folder is named DataViz-\\<StudentID>-Assignment2 (e.g., DataViz-2012345-Assigment2) and then compressed with the same name.\n",
    "    \n",
    "### Evaluation {-}\n",
    "Assignment evaluation will be conducted on how properly you analyze, pre-process, split the data for training/testing purpose, then build a regression model, evaluate the model performance and reasonably answer the open discussion questions.\n",
    "\n",
    "Note that the evaluation will not consider the model accuracy as the most important criterion, but how properly you handle the data and build the model to learn the data pattern.\n",
    "\n",
    "### Deadline {-}\n",
    "Please visit Canvas for details.\n"
   ]
  },
  {
   "cell_type": "code",
   "execution_count": 27,
   "metadata": {
    "id": "apE0gGK003H2"
   },
   "outputs": [],
   "source": [
    "import numpy as np\n",
    "import pandas as pd\n",
    "import matplotlib.pyplot as plt\n",
    "import seaborn as sns"
   ]
  },
  {
   "cell_type": "markdown",
   "metadata": {
    "id": "SrVx-zkD4HUj"
   },
   "source": [
    "This is a dataset about loan amount for which a customer can request a bank with his/her collateral house.\n",
    "\n",
    "* Gender: Gender of customer requesting for a loan ('F' or 'M').\n",
    "* Age: Age of customer requesting for a loan (non-negative values).\n",
    "* Income (USD): Income of customer requesting for a loan (non-negative values).\n",
    "* Income Stability: Income stability of customer requesting for a loan (\"Low\" or \"High\").\n",
    "* Property Age: Age of the property (non-negative number of days).\n",
    "* Property Location: Location of the property (\"Rural\", \"Urban\", and \"Semi-Urban\").\n",
    "* Property Price: Price of the property (USD).\n",
    "* Loan Sanction Amount (USD): Amount of loan the customer can request for (USD, target value)."
   ]
  },
  {
   "cell_type": "code",
   "execution_count": 52,
   "metadata": {
    "colab": {
     "base_uri": "https://localhost:8080/",
     "height": 337
    },
    "executionInfo": {
     "elapsed": 569,
     "status": "ok",
     "timestamp": 1654249905194,
     "user": {
      "displayName": "Sơn Huỳnh Thanh",
      "userId": "12358216226509522886"
     },
     "user_tz": -420
    },
    "id": "fjJKhhIk-h4F",
    "outputId": "6bcaf199-cb75-4aa7-db35-b0ec3cf84c52"
   },
   "outputs": [
    {
     "data": {
      "text/html": [
       "<div>\n",
       "<style scoped>\n",
       "    .dataframe tbody tr th:only-of-type {\n",
       "        vertical-align: middle;\n",
       "    }\n",
       "\n",
       "    .dataframe tbody tr th {\n",
       "        vertical-align: top;\n",
       "    }\n",
       "\n",
       "    .dataframe thead th {\n",
       "        text-align: right;\n",
       "    }\n",
       "</style>\n",
       "<table border=\"1\" class=\"dataframe\">\n",
       "  <thead>\n",
       "    <tr style=\"text-align: right;\">\n",
       "      <th></th>\n",
       "      <th>Gender</th>\n",
       "      <th>Age</th>\n",
       "      <th>Income (USD)</th>\n",
       "      <th>Income Stability</th>\n",
       "      <th>Property Age</th>\n",
       "      <th>Property Location</th>\n",
       "      <th>Property Price</th>\n",
       "      <th>Loan Sanction Amount (USD)</th>\n",
       "    </tr>\n",
       "  </thead>\n",
       "  <tbody>\n",
       "    <tr>\n",
       "      <th>0</th>\n",
       "      <td>F</td>\n",
       "      <td>19</td>\n",
       "      <td>1641.25</td>\n",
       "      <td>Low</td>\n",
       "      <td>1651.25</td>\n",
       "      <td>Rural</td>\n",
       "      <td>59641.82</td>\n",
       "      <td>21026.420753</td>\n",
       "    </tr>\n",
       "    <tr>\n",
       "      <th>1</th>\n",
       "      <td>M</td>\n",
       "      <td>29</td>\n",
       "      <td>1989.71</td>\n",
       "      <td>Low</td>\n",
       "      <td>1990.71</td>\n",
       "      <td>Urban</td>\n",
       "      <td>179858.51</td>\n",
       "      <td>60595.183366</td>\n",
       "    </tr>\n",
       "    <tr>\n",
       "      <th>2</th>\n",
       "      <td>F</td>\n",
       "      <td>37</td>\n",
       "      <td>1849.91</td>\n",
       "      <td>Low</td>\n",
       "      <td>1856.91</td>\n",
       "      <td>Rural</td>\n",
       "      <td>117297.62</td>\n",
       "      <td>39181.648002</td>\n",
       "    </tr>\n",
       "    <tr>\n",
       "      <th>3</th>\n",
       "      <td>M</td>\n",
       "      <td>65</td>\n",
       "      <td>2735.18</td>\n",
       "      <td>High</td>\n",
       "      <td>2747.18</td>\n",
       "      <td>Rural</td>\n",
       "      <td>354417.72</td>\n",
       "      <td>128497.710865</td>\n",
       "    </tr>\n",
       "    <tr>\n",
       "      <th>4</th>\n",
       "      <td>F</td>\n",
       "      <td>62</td>\n",
       "      <td>4741.78</td>\n",
       "      <td>High</td>\n",
       "      <td>4740.78</td>\n",
       "      <td>Urban</td>\n",
       "      <td>82049.80</td>\n",
       "      <td>39386.919336</td>\n",
       "    </tr>\n",
       "  </tbody>\n",
       "</table>\n",
       "</div>"
      ],
      "text/plain": [
       "  Gender  Age  Income (USD) Income Stability  Property Age Property Location  \\\n",
       "0      F   19       1641.25              Low       1651.25             Rural   \n",
       "1      M   29       1989.71              Low       1990.71             Urban   \n",
       "2      F   37       1849.91              Low       1856.91             Rural   \n",
       "3      M   65       2735.18             High       2747.18             Rural   \n",
       "4      F   62       4741.78             High       4740.78             Urban   \n",
       "\n",
       "   Property Price  Loan Sanction Amount (USD)  \n",
       "0        59641.82                21026.420753  \n",
       "1       179858.51                60595.183366  \n",
       "2       117297.62                39181.648002  \n",
       "3       354417.72               128497.710865  \n",
       "4        82049.80                39386.919336  "
      ]
     },
     "execution_count": 52,
     "metadata": {},
     "output_type": "execute_result"
    }
   ],
   "source": [
    "# Load and display data\n",
    "data = pd.read_csv(\"house_loan.csv\")\n",
    "data.head()"
   ]
  },
  {
   "cell_type": "markdown",
   "metadata": {},
   "source": [
    "## 1. Coding tasks"
   ]
  },
  {
   "cell_type": "markdown",
   "metadata": {},
   "source": [
    "### 1.1 Analyze the dataset using libraries like Pandas and Matplotlib."
   ]
  },
  {
   "cell_type": "code",
   "execution_count": 53,
   "metadata": {},
   "outputs": [
    {
     "name": "stdout",
     "output_type": "stream",
     "text": [
      "Dataset Info:\n",
      "<class 'pandas.core.frame.DataFrame'>\n",
      "RangeIndex: 47297 entries, 0 to 47296\n",
      "Data columns (total 8 columns):\n",
      " #   Column                      Non-Null Count  Dtype  \n",
      "---  ------                      --------------  -----  \n",
      " 0   Gender                      47297 non-null  object \n",
      " 1   Age                         47297 non-null  int64  \n",
      " 2   Income (USD)                47265 non-null  float64\n",
      " 3   Income Stability            47285 non-null  object \n",
      " 4   Property Age                47263 non-null  float64\n",
      " 5   Property Location           47294 non-null  object \n",
      " 6   Property Price              47297 non-null  float64\n",
      " 7   Loan Sanction Amount (USD)  47297 non-null  float64\n",
      "dtypes: float64(4), int64(1), object(3)\n",
      "memory usage: 2.9+ MB\n"
     ]
    }
   ],
   "source": [
    "# Basic information about the dataset\n",
    "print(\"Dataset Info:\")\n",
    "data.info()"
   ]
  },
  {
   "cell_type": "code",
   "execution_count": 54,
   "metadata": {},
   "outputs": [
    {
     "name": "stdout",
     "output_type": "stream",
     "text": [
      "Summary Statistics:\n",
      "                Age  Income (USD)  Property Age  Property Price  \\\n",
      "count  47297.000000  47265.000000  47263.000000    4.729700e+04   \n",
      "mean      40.000063   2586.684384   2586.611058    1.350880e+05   \n",
      "std       16.086128   1558.768809   1558.842286    9.457875e+04   \n",
      "min       18.000000    372.700000    370.700000    7.859620e+03   \n",
      "25%       24.000000   1653.740000   1652.820000    6.250408e+04   \n",
      "50%       40.000000   2245.480000   2244.810000    1.130936e+05   \n",
      "75%       55.000000   3128.560000   3128.380000    1.819546e+05   \n",
      "max       65.000000  54662.750000  54647.750000    1.077967e+06   \n",
      "\n",
      "       Loan Sanction Amount (USD)  \n",
      "count                47297.000000  \n",
      "mean                 46487.229765  \n",
      "std                  32549.905634  \n",
      "min                    254.586578  \n",
      "25%                  21782.822159  \n",
      "50%                  38822.132402  \n",
      "75%                  62612.236905  \n",
      "max                 366131.165218  \n"
     ]
    }
   ],
   "source": [
    "# Summary statistics of numerical columns\n",
    "print(\"Summary Statistics:\")\n",
    "print(data.describe())"
   ]
  },
  {
   "cell_type": "code",
   "execution_count": 55,
   "metadata": {},
   "outputs": [
    {
     "data": {
      "text/plain": [
       "(47297, 8)"
      ]
     },
     "execution_count": 55,
     "metadata": {},
     "output_type": "execute_result"
    }
   ],
   "source": [
    "data.shape"
   ]
  },
  {
   "cell_type": "code",
   "execution_count": 56,
   "metadata": {},
   "outputs": [
    {
     "data": {
      "text/html": [
       "<div>\n",
       "<style scoped>\n",
       "    .dataframe tbody tr th:only-of-type {\n",
       "        vertical-align: middle;\n",
       "    }\n",
       "\n",
       "    .dataframe tbody tr th {\n",
       "        vertical-align: top;\n",
       "    }\n",
       "\n",
       "    .dataframe thead th {\n",
       "        text-align: right;\n",
       "    }\n",
       "</style>\n",
       "<table border=\"1\" class=\"dataframe\">\n",
       "  <thead>\n",
       "    <tr style=\"text-align: right;\">\n",
       "      <th></th>\n",
       "      <th>Gender</th>\n",
       "      <th>Age</th>\n",
       "      <th>Income (USD)</th>\n",
       "      <th>Income Stability</th>\n",
       "      <th>Property Age</th>\n",
       "      <th>Property Location</th>\n",
       "      <th>Property Price</th>\n",
       "      <th>Loan Sanction Amount (USD)</th>\n",
       "    </tr>\n",
       "  </thead>\n",
       "  <tbody>\n",
       "    <tr>\n",
       "      <th>count</th>\n",
       "      <td>47297</td>\n",
       "      <td>47297.00</td>\n",
       "      <td>47265.00</td>\n",
       "      <td>47285</td>\n",
       "      <td>47263.00</td>\n",
       "      <td>47294</td>\n",
       "      <td>47297.00</td>\n",
       "      <td>47297.00</td>\n",
       "    </tr>\n",
       "    <tr>\n",
       "      <th>unique</th>\n",
       "      <td>2</td>\n",
       "      <td>NaN</td>\n",
       "      <td>NaN</td>\n",
       "      <td>2</td>\n",
       "      <td>NaN</td>\n",
       "      <td>3</td>\n",
       "      <td>NaN</td>\n",
       "      <td>NaN</td>\n",
       "    </tr>\n",
       "    <tr>\n",
       "      <th>top</th>\n",
       "      <td>F</td>\n",
       "      <td>NaN</td>\n",
       "      <td>NaN</td>\n",
       "      <td>Low</td>\n",
       "      <td>NaN</td>\n",
       "      <td>Semi-Urban</td>\n",
       "      <td>NaN</td>\n",
       "      <td>NaN</td>\n",
       "    </tr>\n",
       "    <tr>\n",
       "      <th>freq</th>\n",
       "      <td>23669</td>\n",
       "      <td>NaN</td>\n",
       "      <td>NaN</td>\n",
       "      <td>43078</td>\n",
       "      <td>NaN</td>\n",
       "      <td>16371</td>\n",
       "      <td>NaN</td>\n",
       "      <td>NaN</td>\n",
       "    </tr>\n",
       "    <tr>\n",
       "      <th>mean</th>\n",
       "      <td>NaN</td>\n",
       "      <td>40.00</td>\n",
       "      <td>2586.68</td>\n",
       "      <td>NaN</td>\n",
       "      <td>2586.61</td>\n",
       "      <td>NaN</td>\n",
       "      <td>135088.05</td>\n",
       "      <td>46487.23</td>\n",
       "    </tr>\n",
       "    <tr>\n",
       "      <th>std</th>\n",
       "      <td>NaN</td>\n",
       "      <td>16.09</td>\n",
       "      <td>1558.77</td>\n",
       "      <td>NaN</td>\n",
       "      <td>1558.84</td>\n",
       "      <td>NaN</td>\n",
       "      <td>94578.75</td>\n",
       "      <td>32549.91</td>\n",
       "    </tr>\n",
       "    <tr>\n",
       "      <th>min</th>\n",
       "      <td>NaN</td>\n",
       "      <td>18.00</td>\n",
       "      <td>372.70</td>\n",
       "      <td>NaN</td>\n",
       "      <td>370.70</td>\n",
       "      <td>NaN</td>\n",
       "      <td>7859.62</td>\n",
       "      <td>254.59</td>\n",
       "    </tr>\n",
       "    <tr>\n",
       "      <th>25%</th>\n",
       "      <td>NaN</td>\n",
       "      <td>24.00</td>\n",
       "      <td>1653.74</td>\n",
       "      <td>NaN</td>\n",
       "      <td>1652.82</td>\n",
       "      <td>NaN</td>\n",
       "      <td>62504.08</td>\n",
       "      <td>21782.82</td>\n",
       "    </tr>\n",
       "    <tr>\n",
       "      <th>50%</th>\n",
       "      <td>NaN</td>\n",
       "      <td>40.00</td>\n",
       "      <td>2245.48</td>\n",
       "      <td>NaN</td>\n",
       "      <td>2244.81</td>\n",
       "      <td>NaN</td>\n",
       "      <td>113093.60</td>\n",
       "      <td>38822.13</td>\n",
       "    </tr>\n",
       "    <tr>\n",
       "      <th>75%</th>\n",
       "      <td>NaN</td>\n",
       "      <td>55.00</td>\n",
       "      <td>3128.56</td>\n",
       "      <td>NaN</td>\n",
       "      <td>3128.38</td>\n",
       "      <td>NaN</td>\n",
       "      <td>181954.63</td>\n",
       "      <td>62612.24</td>\n",
       "    </tr>\n",
       "    <tr>\n",
       "      <th>max</th>\n",
       "      <td>NaN</td>\n",
       "      <td>65.00</td>\n",
       "      <td>54662.75</td>\n",
       "      <td>NaN</td>\n",
       "      <td>54647.75</td>\n",
       "      <td>NaN</td>\n",
       "      <td>1077966.73</td>\n",
       "      <td>366131.17</td>\n",
       "    </tr>\n",
       "  </tbody>\n",
       "</table>\n",
       "</div>"
      ],
      "text/plain": [
       "       Gender       Age  Income (USD) Income Stability  Property Age  \\\n",
       "count   47297  47297.00      47265.00            47285      47263.00   \n",
       "unique      2       NaN           NaN                2           NaN   \n",
       "top         F       NaN           NaN              Low           NaN   \n",
       "freq    23669       NaN           NaN            43078           NaN   \n",
       "mean      NaN     40.00       2586.68              NaN       2586.61   \n",
       "std       NaN     16.09       1558.77              NaN       1558.84   \n",
       "min       NaN     18.00        372.70              NaN        370.70   \n",
       "25%       NaN     24.00       1653.74              NaN       1652.82   \n",
       "50%       NaN     40.00       2245.48              NaN       2244.81   \n",
       "75%       NaN     55.00       3128.56              NaN       3128.38   \n",
       "max       NaN     65.00      54662.75              NaN      54647.75   \n",
       "\n",
       "       Property Location  Property Price  Loan Sanction Amount (USD)  \n",
       "count              47294        47297.00                    47297.00  \n",
       "unique                 3             NaN                         NaN  \n",
       "top           Semi-Urban             NaN                         NaN  \n",
       "freq               16371             NaN                         NaN  \n",
       "mean                 NaN       135088.05                    46487.23  \n",
       "std                  NaN        94578.75                    32549.91  \n",
       "min                  NaN         7859.62                      254.59  \n",
       "25%                  NaN        62504.08                    21782.82  \n",
       "50%                  NaN       113093.60                    38822.13  \n",
       "75%                  NaN       181954.63                    62612.24  \n",
       "max                  NaN      1077966.73                   366131.17  "
      ]
     },
     "execution_count": 56,
     "metadata": {},
     "output_type": "execute_result"
    }
   ],
   "source": [
    "round(data.describe(include='all'), 2)"
   ]
  },
  {
   "cell_type": "code",
   "execution_count": 57,
   "metadata": {},
   "outputs": [
    {
     "data": {
      "image/png": "[encoded data removed]",
      "text/plain": [
       "<Figure size 1000x600 with 1 Axes>"
      ]
     },
     "metadata": {},
     "output_type": "display_data"
    }
   ],
   "source": [
    "# Visualizing numerical columns\n",
    "plt.figure(figsize=(10, 6))\n",
    "sns.histplot(data[\"Loan Sanction Amount (USD)\"], bins=30, kde=True)\n",
    "plt.title(\"Distribution of Loan Sanction Amount\")\n",
    "plt.xlabel(\"Loan Amount (USD)\")\n",
    "plt.ylabel(\"Frequency\")\n",
    "plt.show()"
   ]
  },
  {
   "cell_type": "code",
   "execution_count": 58,
   "metadata": {},
   "outputs": [
    {
     "data": {
      "image/png": "[encoded data removed]",
      "text/plain": [
       "<Figure size 800x500 with 1 Axes>"
      ]
     },
     "metadata": {},
     "output_type": "display_data"
    }
   ],
   "source": [
    "# Boxplot to check for outliers\n",
    "plt.figure(figsize=(8, 5))\n",
    "sns.boxplot(x=data[\"Loan Sanction Amount (USD)\"])\n",
    "plt.title(\"Boxplot of Loan Sanction Amount\")\n",
    "plt.show()"
   ]
  },
  {
   "cell_type": "markdown",
   "metadata": {},
   "source": [
    "### 1.2 *(1 point)* Preprocess the data for modeling.  \n"
   ]
  },
  {
   "cell_type": "code",
   "execution_count": 59,
   "metadata": {},
   "outputs": [
    {
     "name": "stdout",
     "output_type": "stream",
     "text": [
      "Requirement already satisfied: scikit-learn in c:\\users\\luong\\appdata\\local\\packages\\pythonsoftwarefoundation.python.3.11_qbz5n2kfra8p0\\localcache\\local-packages\\python311\\site-packages (1.6.1)\n",
      "Requirement already satisfied: numpy>=1.19.5 in c:\\users\\luong\\appdata\\local\\packages\\pythonsoftwarefoundation.python.3.11_qbz5n2kfra8p0\\localcache\\local-packages\\python311\\site-packages (from scikit-learn) (2.2.1)\n",
      "Requirement already satisfied: scipy>=1.6.0 in c:\\users\\luong\\appdata\\local\\packages\\pythonsoftwarefoundation.python.3.11_qbz5n2kfra8p0\\localcache\\local-packages\\python311\\site-packages (from scikit-learn) (1.15.2)\n",
      "Requirement already satisfied: joblib>=1.2.0 in c:\\users\\luong\\appdata\\local\\packages\\pythonsoftwarefoundation.python.3.11_qbz5n2kfra8p0\\localcache\\local-packages\\python311\\site-packages (from scikit-learn) (1.4.2)\n",
      "Requirement already satisfied: threadpoolctl>=3.1.0 in c:\\users\\luong\\appdata\\local\\packages\\pythonsoftwarefoundation.python.3.11_qbz5n2kfra8p0\\localcache\\local-packages\\python311\\site-packages (from scikit-learn) (3.6.0)\n"
     ]
    },
    {
     "name": "stderr",
     "output_type": "stream",
     "text": [
      "\n",
      "[notice] A new release of pip is available: 24.0 -> 25.0.1\n",
      "[notice] To update, run: C:\\Users\\luong\\AppData\\Local\\Microsoft\\WindowsApps\\PythonSoftwareFoundation.Python.3.11_qbz5n2kfra8p0\\python.exe -m pip install --upgrade pip\n"
     ]
    }
   ],
   "source": [
    "!pip install scikit-learn\n",
    "\n",
    "from sklearn.preprocessing import LabelEncoder, StandardScaler"
   ]
  },
  {
   "cell_type": "code",
   "execution_count": 60,
   "metadata": {},
   "outputs": [
    {
     "data": {
      "text/plain": [
       "Gender                        False\n",
       "Age                           False\n",
       "Income (USD)                   True\n",
       "Income Stability               True\n",
       "Property Age                   True\n",
       "Property Location              True\n",
       "Property Price                False\n",
       "Loan Sanction Amount (USD)    False\n",
       "dtype: bool"
      ]
     },
     "execution_count": 60,
     "metadata": {},
     "output_type": "execute_result"
    }
   ],
   "source": [
    "data.isnull().any()"
   ]
  },
  {
   "cell_type": "code",
   "execution_count": 61,
   "metadata": {},
   "outputs": [
    {
     "data": {
      "text/plain": [
       "Gender                         0\n",
       "Age                            0\n",
       "Income (USD)                  32\n",
       "Income Stability              12\n",
       "Property Age                  34\n",
       "Property Location              3\n",
       "Property Price                 0\n",
       "Loan Sanction Amount (USD)     0\n",
       "dtype: int64"
      ]
     },
     "execution_count": 61,
     "metadata": {},
     "output_type": "execute_result"
    }
   ],
   "source": [
    "data.isnull().sum()"
   ]
  },
  {
   "cell_type": "code",
   "execution_count": 62,
   "metadata": {},
   "outputs": [
    {
     "data": {
      "text/plain": [
       "np.int64(81)"
      ]
     },
     "execution_count": 62,
     "metadata": {},
     "output_type": "execute_result"
    }
   ],
   "source": [
    "data.isnull().sum().sum()"
   ]
  },
  {
   "cell_type": "code",
   "execution_count": 63,
   "metadata": {},
   "outputs": [
    {
     "data": {
      "text/html": [
       "<div>\n",
       "<style scoped>\n",
       "    .dataframe tbody tr th:only-of-type {\n",
       "        vertical-align: middle;\n",
       "    }\n",
       "\n",
       "    .dataframe tbody tr th {\n",
       "        vertical-align: top;\n",
       "    }\n",
       "\n",
       "    .dataframe thead th {\n",
       "        text-align: right;\n",
       "    }\n",
       "</style>\n",
       "<table border=\"1\" class=\"dataframe\">\n",
       "  <thead>\n",
       "    <tr style=\"text-align: right;\">\n",
       "      <th></th>\n",
       "      <th>Gender</th>\n",
       "      <th>Age</th>\n",
       "      <th>Income (USD)</th>\n",
       "      <th>Income Stability</th>\n",
       "      <th>Property Age</th>\n",
       "      <th>Property Location</th>\n",
       "      <th>Property Price</th>\n",
       "      <th>Loan Sanction Amount (USD)</th>\n",
       "    </tr>\n",
       "  </thead>\n",
       "  <tbody>\n",
       "    <tr>\n",
       "      <th>0</th>\n",
       "      <td>F</td>\n",
       "      <td>19</td>\n",
       "      <td>1641.25</td>\n",
       "      <td>Low</td>\n",
       "      <td>1651.25</td>\n",
       "      <td>Rural</td>\n",
       "      <td>59641.82</td>\n",
       "      <td>21026.420753</td>\n",
       "    </tr>\n",
       "    <tr>\n",
       "      <th>1</th>\n",
       "      <td>M</td>\n",
       "      <td>29</td>\n",
       "      <td>1989.71</td>\n",
       "      <td>Low</td>\n",
       "      <td>1990.71</td>\n",
       "      <td>Urban</td>\n",
       "      <td>179858.51</td>\n",
       "      <td>60595.183366</td>\n",
       "    </tr>\n",
       "    <tr>\n",
       "      <th>2</th>\n",
       "      <td>F</td>\n",
       "      <td>37</td>\n",
       "      <td>1849.91</td>\n",
       "      <td>Low</td>\n",
       "      <td>1856.91</td>\n",
       "      <td>Rural</td>\n",
       "      <td>117297.62</td>\n",
       "      <td>39181.648002</td>\n",
       "    </tr>\n",
       "    <tr>\n",
       "      <th>3</th>\n",
       "      <td>M</td>\n",
       "      <td>65</td>\n",
       "      <td>2735.18</td>\n",
       "      <td>High</td>\n",
       "      <td>2747.18</td>\n",
       "      <td>Rural</td>\n",
       "      <td>354417.72</td>\n",
       "      <td>128497.710865</td>\n",
       "    </tr>\n",
       "    <tr>\n",
       "      <th>4</th>\n",
       "      <td>F</td>\n",
       "      <td>62</td>\n",
       "      <td>4741.78</td>\n",
       "      <td>High</td>\n",
       "      <td>4740.78</td>\n",
       "      <td>Urban</td>\n",
       "      <td>82049.80</td>\n",
       "      <td>39386.919336</td>\n",
       "    </tr>\n",
       "    <tr>\n",
       "      <th>...</th>\n",
       "      <td>...</td>\n",
       "      <td>...</td>\n",
       "      <td>...</td>\n",
       "      <td>...</td>\n",
       "      <td>...</td>\n",
       "      <td>...</td>\n",
       "      <td>...</td>\n",
       "      <td>...</td>\n",
       "    </tr>\n",
       "    <tr>\n",
       "      <th>47246</th>\n",
       "      <td>F</td>\n",
       "      <td>62</td>\n",
       "      <td>2121.48</td>\n",
       "      <td>Low</td>\n",
       "      <td>2135.48</td>\n",
       "      <td>Rural</td>\n",
       "      <td>240291.63</td>\n",
       "      <td>78800.491330</td>\n",
       "    </tr>\n",
       "    <tr>\n",
       "      <th>47247</th>\n",
       "      <td>M</td>\n",
       "      <td>38</td>\n",
       "      <td>1506.72</td>\n",
       "      <td>Low</td>\n",
       "      <td>1505.72</td>\n",
       "      <td>Rural</td>\n",
       "      <td>218431.37</td>\n",
       "      <td>72483.293359</td>\n",
       "    </tr>\n",
       "    <tr>\n",
       "      <th>47248</th>\n",
       "      <td>F</td>\n",
       "      <td>20</td>\n",
       "      <td>1595.10</td>\n",
       "      <td>Low</td>\n",
       "      <td>1582.10</td>\n",
       "      <td>Semi-Urban</td>\n",
       "      <td>154458.88</td>\n",
       "      <td>52462.861498</td>\n",
       "    </tr>\n",
       "    <tr>\n",
       "      <th>47249</th>\n",
       "      <td>F</td>\n",
       "      <td>50</td>\n",
       "      <td>2002.27</td>\n",
       "      <td>Low</td>\n",
       "      <td>2007.27</td>\n",
       "      <td>Semi-Urban</td>\n",
       "      <td>72277.78</td>\n",
       "      <td>22909.596763</td>\n",
       "    </tr>\n",
       "    <tr>\n",
       "      <th>47250</th>\n",
       "      <td>F</td>\n",
       "      <td>46</td>\n",
       "      <td>492.91</td>\n",
       "      <td>Low</td>\n",
       "      <td>497.91</td>\n",
       "      <td>Rural</td>\n",
       "      <td>24597.61</td>\n",
       "      <td>5941.989388</td>\n",
       "    </tr>\n",
       "  </tbody>\n",
       "</table>\n",
       "<p>47251 rows × 8 columns</p>\n",
       "</div>"
      ],
      "text/plain": [
       "      Gender  Age  Income (USD) Income Stability  Property Age  \\\n",
       "0          F   19       1641.25              Low       1651.25   \n",
       "1          M   29       1989.71              Low       1990.71   \n",
       "2          F   37       1849.91              Low       1856.91   \n",
       "3          M   65       2735.18             High       2747.18   \n",
       "4          F   62       4741.78             High       4740.78   \n",
       "...      ...  ...           ...              ...           ...   \n",
       "47246      F   62       2121.48              Low       2135.48   \n",
       "47247      M   38       1506.72              Low       1505.72   \n",
       "47248      F   20       1595.10              Low       1582.10   \n",
       "47249      F   50       2002.27              Low       2007.27   \n",
       "47250      F   46        492.91              Low        497.91   \n",
       "\n",
       "      Property Location  Property Price  Loan Sanction Amount (USD)  \n",
       "0                 Rural        59641.82                21026.420753  \n",
       "1                 Urban       179858.51                60595.183366  \n",
       "2                 Rural       117297.62                39181.648002  \n",
       "3                 Rural       354417.72               128497.710865  \n",
       "4                 Urban        82049.80                39386.919336  \n",
       "...                 ...             ...                         ...  \n",
       "47246             Rural       240291.63                78800.491330  \n",
       "47247             Rural       218431.37                72483.293359  \n",
       "47248        Semi-Urban       154458.88                52462.861498  \n",
       "47249        Semi-Urban        72277.78                22909.596763  \n",
       "47250             Rural        24597.61                 5941.989388  \n",
       "\n",
       "[47251 rows x 8 columns]"
      ]
     },
     "execution_count": 63,
     "metadata": {},
     "output_type": "execute_result"
    }
   ],
   "source": [
    "# Handle missing values (if any)\n",
    "data_without_nan = data.dropna()\n",
    "\n",
    "data_without_nan = data_without_nan.reset_index(drop=True)\n",
    "\n",
    "data_without_nan"
   ]
  },
  {
   "cell_type": "code",
   "execution_count": 64,
   "metadata": {},
   "outputs": [
    {
     "data": {
      "text/plain": [
       "Gender                        47251\n",
       "Age                           47251\n",
       "Income (USD)                  47251\n",
       "Income Stability              47251\n",
       "Property Age                  47251\n",
       "Property Location             47251\n",
       "Property Price                47251\n",
       "Loan Sanction Amount (USD)    47251\n",
       "dtype: int64"
      ]
     },
     "execution_count": 64,
     "metadata": {},
     "output_type": "execute_result"
    }
   ],
   "source": [
    "data_without_nan.count()"
   ]
  },
  {
   "cell_type": "code",
   "execution_count": 65,
   "metadata": {},
   "outputs": [
    {
     "data": {
      "text/html": [
       "<div>\n",
       "<style scoped>\n",
       "    .dataframe tbody tr th:only-of-type {\n",
       "        vertical-align: middle;\n",
       "    }\n",
       "\n",
       "    .dataframe tbody tr th {\n",
       "        vertical-align: top;\n",
       "    }\n",
       "\n",
       "    .dataframe thead th {\n",
       "        text-align: right;\n",
       "    }\n",
       "</style>\n",
       "<table border=\"1\" class=\"dataframe\">\n",
       "  <thead>\n",
       "    <tr style=\"text-align: right;\">\n",
       "      <th></th>\n",
       "      <th>Age</th>\n",
       "      <th>Income (USD)</th>\n",
       "      <th>Property Age</th>\n",
       "      <th>Property Price</th>\n",
       "      <th>Loan Sanction Amount (USD)</th>\n",
       "    </tr>\n",
       "  </thead>\n",
       "  <tbody>\n",
       "    <tr>\n",
       "      <th>0</th>\n",
       "      <td>19</td>\n",
       "      <td>1641.25</td>\n",
       "      <td>1651.25</td>\n",
       "      <td>59641.82</td>\n",
       "      <td>21026.420753</td>\n",
       "    </tr>\n",
       "    <tr>\n",
       "      <th>1</th>\n",
       "      <td>29</td>\n",
       "      <td>1989.71</td>\n",
       "      <td>1990.71</td>\n",
       "      <td>179858.51</td>\n",
       "      <td>60595.183366</td>\n",
       "    </tr>\n",
       "    <tr>\n",
       "      <th>2</th>\n",
       "      <td>37</td>\n",
       "      <td>1849.91</td>\n",
       "      <td>1856.91</td>\n",
       "      <td>117297.62</td>\n",
       "      <td>39181.648002</td>\n",
       "    </tr>\n",
       "    <tr>\n",
       "      <th>3</th>\n",
       "      <td>65</td>\n",
       "      <td>2735.18</td>\n",
       "      <td>2747.18</td>\n",
       "      <td>354417.72</td>\n",
       "      <td>128497.710865</td>\n",
       "    </tr>\n",
       "    <tr>\n",
       "      <th>4</th>\n",
       "      <td>62</td>\n",
       "      <td>4741.78</td>\n",
       "      <td>4740.78</td>\n",
       "      <td>82049.80</td>\n",
       "      <td>39386.919336</td>\n",
       "    </tr>\n",
       "    <tr>\n",
       "      <th>...</th>\n",
       "      <td>...</td>\n",
       "      <td>...</td>\n",
       "      <td>...</td>\n",
       "      <td>...</td>\n",
       "      <td>...</td>\n",
       "    </tr>\n",
       "    <tr>\n",
       "      <th>47246</th>\n",
       "      <td>62</td>\n",
       "      <td>2121.48</td>\n",
       "      <td>2135.48</td>\n",
       "      <td>240291.63</td>\n",
       "      <td>78800.491330</td>\n",
       "    </tr>\n",
       "    <tr>\n",
       "      <th>47247</th>\n",
       "      <td>38</td>\n",
       "      <td>1506.72</td>\n",
       "      <td>1505.72</td>\n",
       "      <td>218431.37</td>\n",
       "      <td>72483.293359</td>\n",
       "    </tr>\n",
       "    <tr>\n",
       "      <th>47248</th>\n",
       "      <td>20</td>\n",
       "      <td>1595.10</td>\n",
       "      <td>1582.10</td>\n",
       "      <td>154458.88</td>\n",
       "      <td>52462.861498</td>\n",
       "    </tr>\n",
       "    <tr>\n",
       "      <th>47249</th>\n",
       "      <td>50</td>\n",
       "      <td>2002.27</td>\n",
       "      <td>2007.27</td>\n",
       "      <td>72277.78</td>\n",
       "      <td>22909.596763</td>\n",
       "    </tr>\n",
       "    <tr>\n",
       "      <th>47250</th>\n",
       "      <td>46</td>\n",
       "      <td>492.91</td>\n",
       "      <td>497.91</td>\n",
       "      <td>24597.61</td>\n",
       "      <td>5941.989388</td>\n",
       "    </tr>\n",
       "  </tbody>\n",
       "</table>\n",
       "<p>47251 rows × 5 columns</p>\n",
       "</div>"
      ],
      "text/plain": [
       "       Age  Income (USD)  Property Age  Property Price  \\\n",
       "0       19       1641.25       1651.25        59641.82   \n",
       "1       29       1989.71       1990.71       179858.51   \n",
       "2       37       1849.91       1856.91       117297.62   \n",
       "3       65       2735.18       2747.18       354417.72   \n",
       "4       62       4741.78       4740.78        82049.80   \n",
       "...    ...           ...           ...             ...   \n",
       "47246   62       2121.48       2135.48       240291.63   \n",
       "47247   38       1506.72       1505.72       218431.37   \n",
       "47248   20       1595.10       1582.10       154458.88   \n",
       "47249   50       2002.27       2007.27        72277.78   \n",
       "47250   46        492.91        497.91        24597.61   \n",
       "\n",
       "       Loan Sanction Amount (USD)  \n",
       "0                    21026.420753  \n",
       "1                    60595.183366  \n",
       "2                    39181.648002  \n",
       "3                   128497.710865  \n",
       "4                    39386.919336  \n",
       "...                           ...  \n",
       "47246                78800.491330  \n",
       "47247                72483.293359  \n",
       "47248                52462.861498  \n",
       "47249                22909.596763  \n",
       "47250                 5941.989388  \n",
       "\n",
       "[47251 rows x 5 columns]"
      ]
     },
     "execution_count": 65,
     "metadata": {},
     "output_type": "execute_result"
    }
   ],
   "source": [
    "data = data_without_nan.drop('Gender', axis=1)\n",
    "data_1 = data.drop('Income Stability', axis=1)\n",
    "data_2 = data_1.drop('Property Location', axis=1)\n",
    "data_2"
   ]
  },
  {
   "cell_type": "code",
   "execution_count": 67,
   "metadata": {},
   "outputs": [
    {
     "data": {
      "text/html": [
       "<div>\n",
       "<style scoped>\n",
       "    .dataframe tbody tr th:only-of-type {\n",
       "        vertical-align: middle;\n",
       "    }\n",
       "\n",
       "    .dataframe tbody tr th {\n",
       "        vertical-align: top;\n",
       "    }\n",
       "\n",
       "    .dataframe thead th {\n",
       "        text-align: right;\n",
       "    }\n",
       "</style>\n",
       "<table border=\"1\" class=\"dataframe\">\n",
       "  <thead>\n",
       "    <tr style=\"text-align: right;\">\n",
       "      <th></th>\n",
       "      <th>Age</th>\n",
       "      <th>Income (USD)</th>\n",
       "      <th>Property Age</th>\n",
       "      <th>Property Price</th>\n",
       "      <th>Loan Sanction Amount (USD)</th>\n",
       "      <th>Gender_F</th>\n",
       "      <th>Gender_M</th>\n",
       "      <th>Income Stability_High</th>\n",
       "      <th>Income Stability_Low</th>\n",
       "      <th>Property Location_Rural</th>\n",
       "      <th>Property Location_Semi-Urban</th>\n",
       "      <th>Property Location_Urban</th>\n",
       "    </tr>\n",
       "  </thead>\n",
       "  <tbody>\n",
       "    <tr>\n",
       "      <th>0</th>\n",
       "      <td>19</td>\n",
       "      <td>1641.25</td>\n",
       "      <td>1651.25</td>\n",
       "      <td>59641.82</td>\n",
       "      <td>21026.420753</td>\n",
       "      <td>True</td>\n",
       "      <td>False</td>\n",
       "      <td>False</td>\n",
       "      <td>True</td>\n",
       "      <td>True</td>\n",
       "      <td>False</td>\n",
       "      <td>False</td>\n",
       "    </tr>\n",
       "    <tr>\n",
       "      <th>1</th>\n",
       "      <td>29</td>\n",
       "      <td>1989.71</td>\n",
       "      <td>1990.71</td>\n",
       "      <td>179858.51</td>\n",
       "      <td>60595.183366</td>\n",
       "      <td>False</td>\n",
       "      <td>True</td>\n",
       "      <td>False</td>\n",
       "      <td>True</td>\n",
       "      <td>False</td>\n",
       "      <td>False</td>\n",
       "      <td>True</td>\n",
       "    </tr>\n",
       "    <tr>\n",
       "      <th>2</th>\n",
       "      <td>37</td>\n",
       "      <td>1849.91</td>\n",
       "      <td>1856.91</td>\n",
       "      <td>117297.62</td>\n",
       "      <td>39181.648002</td>\n",
       "      <td>True</td>\n",
       "      <td>False</td>\n",
       "      <td>False</td>\n",
       "      <td>True</td>\n",
       "      <td>True</td>\n",
       "      <td>False</td>\n",
       "      <td>False</td>\n",
       "    </tr>\n",
       "    <tr>\n",
       "      <th>3</th>\n",
       "      <td>65</td>\n",
       "      <td>2735.18</td>\n",
       "      <td>2747.18</td>\n",
       "      <td>354417.72</td>\n",
       "      <td>128497.710865</td>\n",
       "      <td>False</td>\n",
       "      <td>True</td>\n",
       "      <td>True</td>\n",
       "      <td>False</td>\n",
       "      <td>True</td>\n",
       "      <td>False</td>\n",
       "      <td>False</td>\n",
       "    </tr>\n",
       "    <tr>\n",
       "      <th>4</th>\n",
       "      <td>62</td>\n",
       "      <td>4741.78</td>\n",
       "      <td>4740.78</td>\n",
       "      <td>82049.80</td>\n",
       "      <td>39386.919336</td>\n",
       "      <td>True</td>\n",
       "      <td>False</td>\n",
       "      <td>True</td>\n",
       "      <td>False</td>\n",
       "      <td>False</td>\n",
       "      <td>False</td>\n",
       "      <td>True</td>\n",
       "    </tr>\n",
       "    <tr>\n",
       "      <th>...</th>\n",
       "      <td>...</td>\n",
       "      <td>...</td>\n",
       "      <td>...</td>\n",
       "      <td>...</td>\n",
       "      <td>...</td>\n",
       "      <td>...</td>\n",
       "      <td>...</td>\n",
       "      <td>...</td>\n",
       "      <td>...</td>\n",
       "      <td>...</td>\n",
       "      <td>...</td>\n",
       "      <td>...</td>\n",
       "    </tr>\n",
       "    <tr>\n",
       "      <th>47246</th>\n",
       "      <td>62</td>\n",
       "      <td>2121.48</td>\n",
       "      <td>2135.48</td>\n",
       "      <td>240291.63</td>\n",
       "      <td>78800.491330</td>\n",
       "      <td>True</td>\n",
       "      <td>False</td>\n",
       "      <td>False</td>\n",
       "      <td>True</td>\n",
       "      <td>True</td>\n",
       "      <td>False</td>\n",
       "      <td>False</td>\n",
       "    </tr>\n",
       "    <tr>\n",
       "      <th>47247</th>\n",
       "      <td>38</td>\n",
       "      <td>1506.72</td>\n",
       "      <td>1505.72</td>\n",
       "      <td>218431.37</td>\n",
       "      <td>72483.293359</td>\n",
       "      <td>False</td>\n",
       "      <td>True</td>\n",
       "      <td>False</td>\n",
       "      <td>True</td>\n",
       "      <td>True</td>\n",
       "      <td>False</td>\n",
       "      <td>False</td>\n",
       "    </tr>\n",
       "    <tr>\n",
       "      <th>47248</th>\n",
       "      <td>20</td>\n",
       "      <td>1595.10</td>\n",
       "      <td>1582.10</td>\n",
       "      <td>154458.88</td>\n",
       "      <td>52462.861498</td>\n",
       "      <td>True</td>\n",
       "      <td>False</td>\n",
       "      <td>False</td>\n",
       "      <td>True</td>\n",
       "      <td>False</td>\n",
       "      <td>True</td>\n",
       "      <td>False</td>\n",
       "    </tr>\n",
       "    <tr>\n",
       "      <th>47249</th>\n",
       "      <td>50</td>\n",
       "      <td>2002.27</td>\n",
       "      <td>2007.27</td>\n",
       "      <td>72277.78</td>\n",
       "      <td>22909.596763</td>\n",
       "      <td>True</td>\n",
       "      <td>False</td>\n",
       "      <td>False</td>\n",
       "      <td>True</td>\n",
       "      <td>False</td>\n",
       "      <td>True</td>\n",
       "      <td>False</td>\n",
       "    </tr>\n",
       "    <tr>\n",
       "      <th>47250</th>\n",
       "      <td>46</td>\n",
       "      <td>492.91</td>\n",
       "      <td>497.91</td>\n",
       "      <td>24597.61</td>\n",
       "      <td>5941.989388</td>\n",
       "      <td>True</td>\n",
       "      <td>False</td>\n",
       "      <td>False</td>\n",
       "      <td>True</td>\n",
       "      <td>True</td>\n",
       "      <td>False</td>\n",
       "      <td>False</td>\n",
       "    </tr>\n",
       "  </tbody>\n",
       "</table>\n",
       "<p>47251 rows × 12 columns</p>\n",
       "</div>"
      ],
      "text/plain": [
       "       Age  Income (USD)  Property Age  Property Price  \\\n",
       "0       19       1641.25       1651.25        59641.82   \n",
       "1       29       1989.71       1990.71       179858.51   \n",
       "2       37       1849.91       1856.91       117297.62   \n",
       "3       65       2735.18       2747.18       354417.72   \n",
       "4       62       4741.78       4740.78        82049.80   \n",
       "...    ...           ...           ...             ...   \n",
       "47246   62       2121.48       2135.48       240291.63   \n",
       "47247   38       1506.72       1505.72       218431.37   \n",
       "47248   20       1595.10       1582.10       154458.88   \n",
       "47249   50       2002.27       2007.27        72277.78   \n",
       "47250   46        492.91        497.91        24597.61   \n",
       "\n",
       "       Loan Sanction Amount (USD)  Gender_F  Gender_M  Income Stability_High  \\\n",
       "0                    21026.420753      True     False                  False   \n",
       "1                    60595.183366     False      True                  False   \n",
       "2                    39181.648002      True     False                  False   \n",
       "3                   128497.710865     False      True                   True   \n",
       "4                    39386.919336      True     False                   True   \n",
       "...                           ...       ...       ...                    ...   \n",
       "47246                78800.491330      True     False                  False   \n",
       "47247                72483.293359     False      True                  False   \n",
       "47248                52462.861498      True     False                  False   \n",
       "47249                22909.596763      True     False                  False   \n",
       "47250                 5941.989388      True     False                  False   \n",
       "\n",
       "       Income Stability_Low  Property Location_Rural  \\\n",
       "0                      True                     True   \n",
       "1                      True                    False   \n",
       "2                      True                     True   \n",
       "3                     False                     True   \n",
       "4                     False                    False   \n",
       "...                     ...                      ...   \n",
       "47246                  True                     True   \n",
       "47247                  True                     True   \n",
       "47248                  True                    False   \n",
       "47249                  True                    False   \n",
       "47250                  True                     True   \n",
       "\n",
       "       Property Location_Semi-Urban  Property Location_Urban  \n",
       "0                             False                    False  \n",
       "1                             False                     True  \n",
       "2                             False                    False  \n",
       "3                             False                    False  \n",
       "4                             False                     True  \n",
       "...                             ...                      ...  \n",
       "47246                         False                    False  \n",
       "47247                         False                    False  \n",
       "47248                          True                    False  \n",
       "47249                          True                    False  \n",
       "47250                         False                    False  \n",
       "\n",
       "[47251 rows x 12 columns]"
      ]
     },
     "execution_count": 67,
     "metadata": {},
     "output_type": "execute_result"
    }
   ],
   "source": [
    "data_3 = pd.get_dummies(data_without_nan, columns=['Gender', 'Income Stability', 'Property Location'])\n",
    "data_3"
   ]
  },
  {
   "cell_type": "code",
   "execution_count": 68,
   "metadata": {},
   "outputs": [
    {
     "name": "stdout",
     "output_type": "stream",
     "text": [
      "Preprocessed Data Sample:\n",
      "   Age  Income (USD) Income Stability  Property Age Property Location  \\\n",
      "0   19       1641.25              Low       1651.25             Rural   \n",
      "1   29       1989.71              Low       1990.71             Urban   \n",
      "2   37       1849.91              Low       1856.91             Rural   \n",
      "3   65       2735.18             High       2747.18             Rural   \n",
      "4   62       4741.78             High       4740.78             Urban   \n",
      "\n",
      "   Property Price  Loan Sanction Amount (USD)  \n",
      "0        59641.82                21026.420753  \n",
      "1       179858.51                60595.183366  \n",
      "2       117297.62                39181.648002  \n",
      "3       354417.72               128497.710865  \n",
      "4        82049.80                39386.919336  \n"
     ]
    }
   ],
   "source": [
    "# Display the preprocessed dataset\n",
    "print(\"Preprocessed Data Sample:\")\n",
    "print(data.head())"
   ]
  },
  {
   "cell_type": "markdown",
   "metadata": {},
   "source": [
    "### 1.3 *(1 point)* Divide the data into training and test sets with a suitable ratio (e.g., 80/20) to ensure unbiased model evaluation.  \n"
   ]
  },
  {
   "cell_type": "code",
   "execution_count": 71,
   "metadata": {},
   "outputs": [
    {
     "name": "stdout",
     "output_type": "stream",
     "text": [
      "Training set shape: (37800, 11) (37800,)\n",
      "Test set shape: (9451, 11) (9451,)\n"
     ]
    }
   ],
   "source": [
    "# Split Data into Training and Test Sets\n",
    "\n",
    "from sklearn.model_selection import train_test_split\n",
    "\n",
    "# Define features (X) and target variable (y)\n",
    "X = data_3.drop(columns=[\"Loan Sanction Amount (USD)\"])  # X: All features except the target column.\n",
    "y = data_3[\"Loan Sanction Amount (USD)\"]  # y: The \"Loan Sanction Amount (USD)\" column (target).\n",
    "\n",
    "# Split into training (80%) and test (20%) sets\n",
    "X_train, X_test, y_train, y_test = train_test_split(X, y, test_size=0.2, random_state=42) \n",
    "        # train_test_split: Splits the dataset into training (80%) and test (20%) sets.\n",
    "        # random_state: Ensures reproducibility so you get the same split each time.\n",
    "\n",
    "# Display dataset shapes\n",
    "print(\"Training set shape:\", X_train.shape, y_train.shape)\n",
    "print(\"Test set shape:\", X_test.shape, y_test.shape)"
   ]
  },
  {
   "cell_type": "markdown",
   "metadata": {},
   "source": [
    "###  1.4 *(1 point)* Train a Linear Regression model on the training set.  "
   ]
  },
  {
   "cell_type": "code",
   "execution_count": 72,
   "metadata": {},
   "outputs": [
    {
     "name": "stdout",
     "output_type": "stream",
     "text": [
      "Intercept: 6155.951573160899\n",
      "Coefficients: [-7.93866132e+01  5.40631708e-01  4.87171285e-01  3.36207617e-01\n",
      "  1.20604193e+02 -1.20604193e+02  5.57826475e+03 -5.57826475e+03\n",
      "  1.33221335e+02 -1.43576646e+02  1.03553112e+01]\n"
     ]
    }
   ],
   "source": [
    "from sklearn.linear_model import LinearRegression\n",
    "\n",
    "# Initialize the Linear Regression model\n",
    "model = LinearRegression()\n",
    "\n",
    "# Train the model on the training set\n",
    "model.fit(X_train, y_train)\n",
    "\n",
    "# Display model coefficients\n",
    "print(\"Intercept:\", model.intercept_)\n",
    "print(\"Coefficients:\", model.coef_)\n",
    "\n",
    "        # Intercept (model.intercept_): The base value when all features are 0.\n",
    "        # Coefficients (model.coef_): The impact of each feature on the target variable."
   ]
  },
  {
   "cell_type": "code",
   "execution_count": 74,
   "metadata": {},
   "outputs": [
    {
     "data": {
      "text/html": [
       "<div>\n",
       "<style scoped>\n",
       "    .dataframe tbody tr th:only-of-type {\n",
       "        vertical-align: middle;\n",
       "    }\n",
       "\n",
       "    .dataframe tbody tr th {\n",
       "        vertical-align: top;\n",
       "    }\n",
       "\n",
       "    .dataframe thead th {\n",
       "        text-align: right;\n",
       "    }\n",
       "</style>\n",
       "<table border=\"1\" class=\"dataframe\">\n",
       "  <thead>\n",
       "    <tr style=\"text-align: right;\">\n",
       "      <th></th>\n",
       "      <th>Age</th>\n",
       "      <th>Income (USD)</th>\n",
       "      <th>Property Age</th>\n",
       "      <th>Property Price</th>\n",
       "      <th>Gender_F</th>\n",
       "      <th>Gender_M</th>\n",
       "      <th>Income Stability_High</th>\n",
       "      <th>Income Stability_Low</th>\n",
       "      <th>Property Location_Rural</th>\n",
       "      <th>Property Location_Semi-Urban</th>\n",
       "      <th>Property Location_Urban</th>\n",
       "    </tr>\n",
       "  </thead>\n",
       "  <tbody>\n",
       "    <tr>\n",
       "      <th>21938</th>\n",
       "      <td>28</td>\n",
       "      <td>4023.09</td>\n",
       "      <td>4031.09</td>\n",
       "      <td>156642.99</td>\n",
       "      <td>False</td>\n",
       "      <td>True</td>\n",
       "      <td>False</td>\n",
       "      <td>True</td>\n",
       "      <td>False</td>\n",
       "      <td>True</td>\n",
       "      <td>False</td>\n",
       "    </tr>\n",
       "    <tr>\n",
       "      <th>46165</th>\n",
       "      <td>35</td>\n",
       "      <td>5858.24</td>\n",
       "      <td>5856.24</td>\n",
       "      <td>379045.17</td>\n",
       "      <td>True</td>\n",
       "      <td>False</td>\n",
       "      <td>False</td>\n",
       "      <td>True</td>\n",
       "      <td>True</td>\n",
       "      <td>False</td>\n",
       "      <td>False</td>\n",
       "    </tr>\n",
       "    <tr>\n",
       "      <th>46753</th>\n",
       "      <td>28</td>\n",
       "      <td>1387.52</td>\n",
       "      <td>1389.52</td>\n",
       "      <td>187390.74</td>\n",
       "      <td>False</td>\n",
       "      <td>True</td>\n",
       "      <td>False</td>\n",
       "      <td>True</td>\n",
       "      <td>False</td>\n",
       "      <td>True</td>\n",
       "      <td>False</td>\n",
       "    </tr>\n",
       "    <tr>\n",
       "      <th>19599</th>\n",
       "      <td>61</td>\n",
       "      <td>935.91</td>\n",
       "      <td>928.91</td>\n",
       "      <td>80439.85</td>\n",
       "      <td>True</td>\n",
       "      <td>False</td>\n",
       "      <td>False</td>\n",
       "      <td>True</td>\n",
       "      <td>False</td>\n",
       "      <td>True</td>\n",
       "      <td>False</td>\n",
       "    </tr>\n",
       "    <tr>\n",
       "      <th>37756</th>\n",
       "      <td>31</td>\n",
       "      <td>3400.24</td>\n",
       "      <td>3388.24</td>\n",
       "      <td>51366.26</td>\n",
       "      <td>True</td>\n",
       "      <td>False</td>\n",
       "      <td>False</td>\n",
       "      <td>True</td>\n",
       "      <td>False</td>\n",
       "      <td>False</td>\n",
       "      <td>True</td>\n",
       "    </tr>\n",
       "    <tr>\n",
       "      <th>4845</th>\n",
       "      <td>20</td>\n",
       "      <td>2799.81</td>\n",
       "      <td>2794.81</td>\n",
       "      <td>87593.69</td>\n",
       "      <td>False</td>\n",
       "      <td>True</td>\n",
       "      <td>False</td>\n",
       "      <td>True</td>\n",
       "      <td>False</td>\n",
       "      <td>True</td>\n",
       "      <td>False</td>\n",
       "    </tr>\n",
       "    <tr>\n",
       "      <th>21862</th>\n",
       "      <td>19</td>\n",
       "      <td>1295.68</td>\n",
       "      <td>1307.68</td>\n",
       "      <td>54202.22</td>\n",
       "      <td>False</td>\n",
       "      <td>True</td>\n",
       "      <td>False</td>\n",
       "      <td>True</td>\n",
       "      <td>False</td>\n",
       "      <td>False</td>\n",
       "      <td>True</td>\n",
       "    </tr>\n",
       "  </tbody>\n",
       "</table>\n",
       "</div>"
      ],
      "text/plain": [
       "       Age  Income (USD)  Property Age  Property Price  Gender_F  Gender_M  \\\n",
       "21938   28       4023.09       4031.09       156642.99     False      True   \n",
       "46165   35       5858.24       5856.24       379045.17      True     False   \n",
       "46753   28       1387.52       1389.52       187390.74     False      True   \n",
       "19599   61        935.91        928.91        80439.85      True     False   \n",
       "37756   31       3400.24       3388.24        51366.26      True     False   \n",
       "4845    20       2799.81       2794.81        87593.69     False      True   \n",
       "21862   19       1295.68       1307.68        54202.22     False      True   \n",
       "\n",
       "       Income Stability_High  Income Stability_Low  Property Location_Rural  \\\n",
       "21938                  False                  True                    False   \n",
       "46165                  False                  True                     True   \n",
       "46753                  False                  True                    False   \n",
       "19599                  False                  True                    False   \n",
       "37756                  False                  True                    False   \n",
       "4845                   False                  True                    False   \n",
       "21862                  False                  True                    False   \n",
       "\n",
       "       Property Location_Semi-Urban  Property Location_Urban  \n",
       "21938                          True                    False  \n",
       "46165                         False                    False  \n",
       "46753                          True                    False  \n",
       "19599                          True                    False  \n",
       "37756                         False                     True  \n",
       "4845                           True                    False  \n",
       "21862                         False                     True  "
      ]
     },
     "execution_count": 74,
     "metadata": {},
     "output_type": "execute_result"
    }
   ],
   "source": [
    "X_test[:7]  # Observe 5 features x of the first 7 samples in the Test set."
   ]
  },
  {
   "cell_type": "code",
   "execution_count": 76,
   "metadata": {},
   "outputs": [
    {
     "data": {
      "text/plain": [
       "21938     54820.859386\n",
       "46165    131358.228735\n",
       "46753     62451.334781\n",
       "19599     23684.630958\n",
       "37756     18946.835598\n",
       "4845      31001.675472\n",
       "21862     18472.677689\n",
       "Name: Loan Sanction Amount (USD), dtype: float64"
      ]
     },
     "execution_count": 76,
     "metadata": {},
     "output_type": "execute_result"
    }
   ],
   "source": [
    "y_test[:7] # Observe labels y of the first 7 samples in the Test set."
   ]
  },
  {
   "cell_type": "code",
   "execution_count": 77,
   "metadata": {},
   "outputs": [
    {
     "data": {
      "text/plain": [
       "array([ 54894.08857943, 131510.99665029,  62519.94658436,  23715.14217699,\n",
       "        19006.32000051,  31050.65677508,  18519.84137049])"
      ]
     },
     "execution_count": 77,
     "metadata": {},
     "output_type": "execute_result"
    }
   ],
   "source": [
    "model.predict(X_test[:7])  # Make prediction on the first 7 samples in the Test set."
   ]
  },
  {
   "cell_type": "markdown",
   "metadata": {},
   "source": [
    "### 1.5 *(1 point)* Evaluate the model performance on the test set.  "
   ]
  },
  {
   "cell_type": "code",
   "execution_count": 78,
   "metadata": {},
   "outputs": [
    {
     "name": "stdout",
     "output_type": "stream",
     "text": [
      "Model Performance:\n",
      "Mean Absolute Error (MAE): 127.84\n",
      "Mean Squared Error (MSE): 2290198.04\n",
      "R-squared (R²) Score: 0.9978\n"
     ]
    }
   ],
   "source": [
    "from sklearn.metrics import mean_absolute_error, mean_squared_error, r2_score\n",
    "\n",
    "# Make predictions on the test set\n",
    "y_pred = model.predict(X_test)\n",
    "\n",
    "# Calculate evaluation metrics\n",
    "mae = mean_absolute_error(y_test, y_pred)  # Mean Absolute Error\n",
    "mse = mean_squared_error(y_test, y_pred)  # Mean Squared Error\n",
    "r2 = r2_score(y_test, y_pred)  # R² Score\n",
    "\n",
    "# Display results\n",
    "print(\"Model Performance:\")\n",
    "print(f\"Mean Absolute Error (MAE): {mae:.2f}\")\n",
    "print(f\"Mean Squared Error (MSE): {mse:.2f}\")\n",
    "print(f\"R-squared (R²) Score: {r2:.4f}\")\n"
   ]
  },
  {
   "cell_type": "code",
   "execution_count": 45,
   "metadata": {},
   "outputs": [],
   "source": [
    "# model.predict(X_test) → Uses the trained model to predict loan amounts on the test data.\n",
    "\n",
    "# mean_absolute_error(y_test, y_pred) → Measures how far predictions are from actual values (lower is better).\n",
    "\n",
    "# mean_squared_error(y_test, y_pred) → Penalizes larger errors more than MAE (lower is better).\n",
    "\n",
    "# r2_score(y_test, y_pred) → Explains how well the model predicts (closer to 1 is better)."
   ]
  },
  {
   "cell_type": "markdown",
   "metadata": {},
   "source": [
    "## 2. Open discussion questions"
   ]
  },
  {
   "cell_type": "markdown",
   "metadata": {},
   "source": [
    "### 2.1 *(1 point)* Does income or income stability have a stronger influence on the loan sanction amount? For example, analyze the data to see if a higher income or a \"High\" income stability rating leads to a greater loan approval amount.  "
   ]
  },
  {
   "cell_type": "code",
   "execution_count": 79,
   "metadata": {},
   "outputs": [],
   "source": [
    "data_4 = data_3[['Age','Income (USD)','Property Age','Property Price','Loan Sanction Amount (USD)','Gender_F','Gender_M','Income Stability_High','Income Stability_Low','Property Location_Rural','Property Location_Semi-Urban','Property Location_Urban']]"
   ]
  },
  {
   "cell_type": "code",
   "execution_count": 80,
   "metadata": {},
   "outputs": [
    {
     "name": "stdout",
     "output_type": "stream",
     "text": [
      "Correlation with Loan Sanction Amount:\n",
      "Income (USD)                  0.392897\n",
      "Income Stability_High         0.070969\n",
      "Loan Sanction Amount (USD)    1.000000\n",
      "Name: Loan Sanction Amount (USD), dtype: float64\n"
     ]
    }
   ],
   "source": [
    "# Compute correlation\n",
    "correlation_matrix = data_3[['Income (USD)', 'Income Stability_High', 'Loan Sanction Amount (USD)']].corr()\n",
    "\n",
    "# Display correlation values\n",
    "print(\"Correlation with Loan Sanction Amount:\")\n",
    "print(correlation_matrix['Loan Sanction Amount (USD)'])\n"
   ]
  },
  {
   "cell_type": "markdown",
   "metadata": {},
   "source": [
    "- Income (USD) has a correlation of **0.3929** with Loan Sanction Amount\n",
    "    → Moderate positive correlation with Loan Amount (income influences loan sanctioning).\n",
    "\n",
    "- Income Stability (High) has a correlation of only **0.0709** with Loan Sanction Amount\n",
    "    → Very weak correlation → Income Stability has almost no direct impact on loan amounts."
   ]
  },
  {
   "cell_type": "code",
   "execution_count": 81,
   "metadata": {},
   "outputs": [
    {
     "data": {
      "image/png": "[encoded data removed]",
      "text/plain": [
       "<Figure size 800x500 with 1 Axes>"
      ]
     },
     "metadata": {},
     "output_type": "display_data"
    }
   ],
   "source": [
    "import seaborn as sns\n",
    "import matplotlib.pyplot as plt\n",
    "\n",
    "plt.figure(figsize=(8, 5))\n",
    "sns.scatterplot(x=data_3['Income (USD)'], y=data_3['Loan Sanction Amount (USD)'], alpha=0.6)\n",
    "plt.xlabel(\"Income (USD)\")\n",
    "plt.ylabel(\"Loan Sanction Amount (USD)\")\n",
    "plt.title(\"Scatter Plot: Income vs. Loan Amount\")\n",
    "plt.show()\n"
   ]
  },
  {
   "cell_type": "markdown",
   "metadata": {},
   "source": [
    "- Moderate Positive Trend: Higher income generally leads to higher loan amounts, but the relationship isn’t strong.\n",
    "- Most Data Clustered Below $10,000 Income & $100,000 Loan: Suggests many applicants are in the lower-income range.\n",
    "- Outliers Exist: Some high-income applicants get much larger loans, while others receive lower amounts."
   ]
  },
  {
   "cell_type": "code",
   "execution_count": 82,
   "metadata": {},
   "outputs": [
    {
     "data": {
      "image/png": "[encoded data removed]",
      "text/plain": [
       "<Figure size 800x500 with 1 Axes>"
      ]
     },
     "metadata": {},
     "output_type": "display_data"
    }
   ],
   "source": [
    "plt.figure(figsize=(8, 5))\n",
    "sns.boxplot(x=data_3['Income Stability_High'], y=data_3['Loan Sanction Amount (USD)'])\n",
    "plt.xlabel(\"Income Stability (0 = Low, 1 = High)\")\n",
    "plt.ylabel(\"Loan Sanction Amount (USD)\")\n",
    "plt.title(\"Box Plot: Loan Amount by Income Stability\")\n",
    "plt.show()\n"
   ]
  },
  {
   "cell_type": "markdown",
   "metadata": {},
   "source": [
    "**Takeaways**\n",
    "- Regression confirms that income has a moderate positive effect on loan amounts. Higher income = higher loan amounts.\n",
    "- Income strongly influences loan amounts, while income stability plays a minimal role.\n",
    "- Banks prioritize income levels over stability when deciding loan approvals."
   ]
  },
  {
   "cell_type": "markdown",
   "metadata": {},
   "source": [
    "### 2.2 *(1 point)* Is there a significant difference in loan amounts based on property location? For example, compare the average loan amounts for properties in rural, urban, and semi-urban locations.  "
   ]
  },
  {
   "cell_type": "code",
   "execution_count": null,
   "metadata": {},
   "outputs": [
    {
     "name": "stdout",
     "output_type": "stream",
     "text": [
      "Average loan amount for rural properties: 46624.86652957834\n"
     ]
    }
   ],
   "source": [
    "# Group by Property Location and calculate the average Loan Sanction Amount\n",
    "rural_data = data_without_nan[data_without_nan['Property Location'] == 'Rural']\n",
    "# Calculate the average loan amount for rural properties\n",
    "average_rural_loan = rural_data['Loan Sanction Amount (USD)'].mean()\n",
    "print(f\"Average loan amount for rural properties: {average_rural_loan}\")"
   ]
  },
  {
   "cell_type": "code",
   "execution_count": 91,
   "metadata": {},
   "outputs": [
    {
     "name": "stdout",
     "output_type": "stream",
     "text": [
      "Property Location\n",
      "Semi-Urban    16361\n",
      "Rural         15941\n",
      "Urban         14949\n",
      "Name: count, dtype: int64\n"
     ]
    }
   ],
   "source": [
    "print(data_without_nan[\"Property Location\"].value_counts())"
   ]
  },
  {
   "cell_type": "code",
   "execution_count": 94,
   "metadata": {},
   "outputs": [
    {
     "name": "stdout",
     "output_type": "stream",
     "text": [
      "ANOVA Test Result:\n",
      "F-statistic: 0.3262264016185515\n",
      "P-value: 0.7216434135271499\n"
     ]
    }
   ],
   "source": [
    "from scipy.stats import f_oneway\n",
    "\n",
    "# Perform ANOVA test to check if there is a significant difference\n",
    "rural_loans = data_without_nan[data_without_nan['Property Location'] == 'Rural']['Loan Sanction Amount (USD)']\n",
    "urban_loans = data_without_nan[data_without_nan['Property Location'] == 'Urban']['Loan Sanction Amount (USD)']\n",
    "semi_urban_loans = data_without_nan[data_without_nan['Property Location'] == 'Semi-Urban']['Loan Sanction Amount (USD)']\n",
    "\n",
    "anova_result = f_oneway(rural_loans, urban_loans, semi_urban_loans)\n",
    "print(\"ANOVA Test Result:\")\n",
    "print(f\"F-statistic: {anova_result.statistic}\")\n",
    "print(f\"P-value: {anova_result.pvalue}\")"
   ]
  },
  {
   "cell_type": "markdown",
   "metadata": {},
   "source": [
    "- P-value (0.7216) is much greater than the typical significance level of 0.05. This indicates that there is no significant difference in the loan amounts between the three property locations (rural, urban, and semi-urban).\n",
    "\n",
    "- The F-statistic (0.3262) suggests that the variation in loan amounts between the property locations is small compared to the variation within each group.\n",
    "\n",
    "Based on the ANOVA test, property location does not significantly affect the loan sanction amounts. This suggests that, according to the data, loan amounts in rural, urban, and semi-urban locations are not statistically different from each other."
   ]
  },
  {
   "cell_type": "code",
   "execution_count": 96,
   "metadata": {},
   "outputs": [
    {
     "data": {
      "image/png": "[encoded data removed]",
      "text/plain": [
       "<Figure size 1000x600 with 1 Axes>"
      ]
     },
     "metadata": {},
     "output_type": "display_data"
    }
   ],
   "source": [
    "# Visualize the comparison using a box plot\n",
    "plt.figure(figsize=(10, 6))\n",
    "sns.boxplot(x='Property Location', y='Loan Sanction Amount (USD)', data=data_without_nan)\n",
    "plt.title('Loan Sanction Amount by Property Location')\n",
    "plt.ylabel('Loan Sanction Amount (USD)')\n",
    "plt.xlabel('Property Location')\n",
    "plt.show()"
   ]
  },
  {
   "cell_type": "markdown",
   "metadata": {},
   "source": [
    "### 2.3 *(1 point)* Is there a gender bias in loan approvals? For example, investigate if there is a difference in average loan amounts offered to male and female applicants.  "
   ]
  },
  {
   "cell_type": "code",
   "execution_count": 97,
   "metadata": {},
   "outputs": [
    {
     "name": "stdout",
     "output_type": "stream",
     "text": [
      "Average Loan Amount by Gender:\n",
      "Gender\n",
      "F    46364.041932\n",
      "M    46585.085774\n",
      "Name: Loan Sanction Amount (USD), dtype: float64\n"
     ]
    }
   ],
   "source": [
    "# Compare average loan amounts by gender\n",
    "avg_loan_by_gender = data_without_nan.groupby('Gender')['Loan Sanction Amount (USD)'].mean()\n",
    "print(\"Average Loan Amount by Gender:\")\n",
    "print(avg_loan_by_gender)"
   ]
  },
  {
   "cell_type": "code",
   "execution_count": 101,
   "metadata": {},
   "outputs": [
    {
     "name": "stdout",
     "output_type": "stream",
     "text": [
      "F-statistic: 0.544902796518338\n",
      "P-value: 0.4604115872209903\n"
     ]
    }
   ],
   "source": [
    "from scipy.stats import f_oneway\n",
    "\n",
    "# Perform ANOVA test\n",
    "female_loans = data_without_nan[data_without_nan['Gender'] == 'F']['Loan Sanction Amount (USD)']\n",
    "male_loans = data_without_nan[data_without_nan['Gender'] == 'M']['Loan Sanction Amount (USD)']\n",
    "\n",
    "f_statistic, p_value = f_oneway(female_loans, male_loans)\n",
    "\n",
    "print(f\"F-statistic: {f_statistic}\")\n",
    "print(f\"P-value: {p_value}\")"
   ]
  },
  {
   "cell_type": "markdown",
   "metadata": {},
   "source": [
    "- No significant difference: Since the p-value (0.4604) is greater than 0.05, we fail to reject the null hypothesis, which suggests that there is no statistically significant difference in the loan amounts offered to male and female applicants.\n",
    "\n",
    "- Loan Amounts: Based on the results of the ANOVA test, gender does not appear to be a significant factor influencing the loan amounts."
   ]
  },
  {
   "cell_type": "code",
   "execution_count": 102,
   "metadata": {},
   "outputs": [
    {
     "data": {
      "image/png": "[encoded data removed]",
      "text/plain": [
       "<Figure size 1000x600 with 1 Axes>"
      ]
     },
     "metadata": {},
     "output_type": "display_data"
    }
   ],
   "source": [
    "# Visualize the distribution of loan amounts by gender\n",
    "plt.figure(figsize=(10, 6))\n",
    "sns.boxplot(x='Gender', y='Loan Sanction Amount (USD)', data=data_without_nan)\n",
    "plt.title('Loan Sanction Amount by Gender')\n",
    "plt.ylabel('Loan Sanction Amount (USD)')\n",
    "plt.xlabel('Gender')\n",
    "plt.show()"
   ]
  },
  {
   "cell_type": "markdown",
   "metadata": {},
   "source": [
    "### 2.4 *(1 point)* Are there any new features you could create from the existing data (e.g., loan-to-value ratio) that might be useful for analyzing loan amounts?  "
   ]
  },
  {
   "cell_type": "code",
   "execution_count": 103,
   "metadata": {},
   "outputs": [
    {
     "name": "stdout",
     "output_type": "stream",
     "text": [
      "Average loan amount for low income: 45752.47780443294\n"
     ]
    }
   ],
   "source": [
    "low_data = data_without_nan[data_without_nan['Income Stability'] == 'Low']\n",
    "# Calculate the average loan amount for people have low income\n",
    "average_low_income = low_data['Loan Sanction Amount (USD)'].mean()\n",
    "print(f\"Average loan amount for low income: {average_low_income}\")"
   ]
  },
  {
   "cell_type": "code",
   "execution_count": 104,
   "metadata": {},
   "outputs": [
    {
     "name": "stdout",
     "output_type": "stream",
     "text": [
      "Average loan amount for high income: 53863.45176645412\n"
     ]
    }
   ],
   "source": [
    "high_data = data_without_nan[data_without_nan['Income Stability'] == 'High']\n",
    "# Calculate the average loan amount for people have high income\n",
    "average_high_income = high_data['Loan Sanction Amount (USD)'].mean()\n",
    "print(f\"Average loan amount for high income: {average_high_income}\")"
   ]
  },
  {
   "cell_type": "code",
   "execution_count": 111,
   "metadata": {},
   "outputs": [
    {
     "name": "stdout",
     "output_type": "stream",
     "text": [
      "F-statistic: 239.1808495838766\n",
      "P-value: 8.043177214624338e-54\n"
     ]
    }
   ],
   "source": [
    "# Perform ANOVA test\n",
    "low_loans = data_without_nan[data_without_nan['Income Stability'] == 'Low']['Loan Sanction Amount (USD)']\n",
    "high_loans = data_without_nan[data_without_nan['Income Stability'] == 'High']['Loan Sanction Amount (USD)']\n",
    "\n",
    "f_statistic, p_value = f_oneway(low_loans, high_loans)\n",
    "\n",
    "print(f\"F-statistic: {f_statistic}\")\n",
    "print(f\"P-value: {p_value}\")"
   ]
  },
  {
   "cell_type": "markdown",
   "metadata": {},
   "source": [
    "- Low Stability: Avg. Loan = $45,752\n",
    "\n",
    "- High Stability: Avg. Loan = $53,863\n",
    "\n",
    "- ANOVA Test: P-value > 0.05 → Not statistically significant\n",
    "\n",
    "- Takeaways:\n",
    "    - Higher stability applicants get slightly larger loans, but the difference isn’t significant.\n",
    "    - Banks likely focus more on income level, property value, etc., rather than income stability."
   ]
  },
  {
   "cell_type": "code",
   "execution_count": null,
   "metadata": {},
   "outputs": [
    {
     "name": "stdout",
     "output_type": "stream",
     "text": [
      "   Loan Sanction Amount (USD)  Property Price  LTV Ratio\n",
      "0                21026.420753        59641.82   0.352545\n",
      "1                60595.183366       179858.51   0.336905\n",
      "2                39181.648002       117297.62   0.334036\n",
      "3               128497.710865       354417.72   0.362560\n",
      "4                39386.919336        82049.80   0.480037\n"
     ]
    }
   ],
   "source": [
    "# Create Loan-to-Value (LTV) Ratio\n",
    "data_without_nan['LTV Ratio'] = data_without_nan['Loan Sanction Amount (USD)'] / data_without_nan['Property Price']\n",
    "\n",
    "# Display the first few rows to verify\n",
    "print(data_without_nan[['Loan Sanction Amount (USD)', 'Property Price', 'LTV Ratio']].head())\n"
   ]
  },
  {
   "cell_type": "code",
   "execution_count": 114,
   "metadata": {},
   "outputs": [
    {
     "name": "stdout",
     "output_type": "stream",
     "text": [
      "Correlation Coefficient: 0.0457\n",
      "P-value: 0.0000\n"
     ]
    }
   ],
   "source": [
    "from scipy.stats import pearsonr\n",
    "\n",
    "# Compute correlation coefficient\n",
    "corr, p_value = pearsonr(data_without_nan['LTV Ratio'], data_without_nan['Loan Sanction Amount (USD)'])\n",
    "\n",
    "print(f\"Correlation Coefficient: {corr:.4f}\")\n",
    "print(f\"P-value: {p_value:.4f}\")"
   ]
  },
  {
   "cell_type": "markdown",
   "metadata": {},
   "source": [
    "###  2.5 *(1 point)* Beyond loan amount prediction, what other insights can be extracted or predicted from this dataset? For example, explore possibilities of using the data to understand borrower behavior, property market trends, or develop targeted marketing strategies.  \n",
    "\n",
    "- Identify trends in loan approvals based on customer attributes.\n",
    "- Explore potential customer segmentation for marketing strategies.\n",
    "- Suggest alternative predictive models for different use cases.\n",
    "- Potential Insights:\n",
    "    - Borrower Risk Profiling: Identify riskier loan applicants based on past approvals.\n",
    "    - Property Market Trends: Use property prices and loan amounts to analyze real estate demand.\n",
    "    - Targeted Marketing: Recommend loan products based on customer profiles.\n",
    "\n",
    "- Questions to Consider:\n",
    "    - Can we predict which customers are most likely to default on their loans?\n",
    "    - Could banks create better loan offers based on applicant demographics?\n",
    "    - What marketing strategies can be developed based on borrower behavior?\n",
    "\n",
    "- Expected Discussion:\n",
    "    - The dataset can be used for risk assessment, marketing strategies, and economic forecasting.\n",
    "    - Understanding borrower behavior could help banks design better loan policies.\n",
    "\n"
   ]
  },
  {
   "cell_type": "code",
   "execution_count": 121,
   "metadata": {},
   "outputs": [
    {
     "name": "stdout",
     "output_type": "stream",
     "text": [
      "Correlation between Income Stability Levels and Loan Amount:\n",
      "Income Stability_Low    -0.070969\n",
      "Income Stability_High    0.070969\n",
      "dtype: float64\n"
     ]
    }
   ],
   "source": [
    "# Compute correlation between Income Stability and Loan Sanction Amount\n",
    "correlation_income_stability = data_3[['Income Stability_Low', 'Income Stability_High']].corrwith(data_3['Loan Sanction Amount (USD)'])\n",
    "\n",
    "# Display results\n",
    "print(\"Correlation between Income Stability Levels and Loan Amount:\")\n",
    "print(correlation_income_stability)\n"
   ]
  },
  {
   "cell_type": "markdown",
   "metadata": {},
   "source": [
    "- Income Stability (High) has a weak positive correlation (0.0709) with Loan Sanction Amount\n",
    "- Income Stability (Low) has a weak negative correlation (-0.0709) with Loan Sanction Amount\n",
    "\n",
    "- The impact of income stability on loan amounts is minimal, as the correlation values are very close to zero.\n",
    "- This suggests that banks do not heavily weigh income stability when deciding loan amounts.\n",
    "- Other factors, like income level, property price, and creditworthiness, likely play a larger role in loan approvals."
   ]
  },
  {
   "cell_type": "code",
   "execution_count": 118,
   "metadata": {},
   "outputs": [
    {
     "name": "stdout",
     "output_type": "stream",
     "text": [
      "Borrower Risk Distribution:\n",
      "Risk Level\n",
      "High      16065\n",
      "Low       15593\n",
      "Medium    15593\n",
      "Name: count, dtype: int64\n"
     ]
    }
   ],
   "source": [
    "# Create Loan-to-Income (LTI) Ratio\n",
    "data_without_nan['LTI Ratio'] = data_without_nan['Loan Sanction Amount (USD)'] / data_without_nan['Income (USD)']\n",
    "\n",
    "# Categorize borrowers into risk levels\n",
    "data_without_nan['Risk Level'] = pd.qcut(data_without_nan['LTI Ratio'], q=[0, 0.33, 0.66, 1], labels=['Low', 'Medium', 'High'])\n",
    "\n",
    "# Count borrowers in each risk category\n",
    "risk_counts = data_without_nan['Risk Level'].value_counts()\n",
    "print(\"Borrower Risk Distribution:\")\n",
    "print(risk_counts)"
   ]
  },
  {
   "cell_type": "markdown",
   "metadata": {},
   "source": [
    "- High Risk (16,065 borrowers): High Loan-to-Income (LTI) ratio, potentially higher repayment risk.\n",
    "\n",
    "- Medium Risk (15,593 borrowers): Moderate LTI ratio, balanced risk.\n",
    "\n",
    "- Low Risk (15,593 borrowers): Low LTI ratio, more financially stable.\n",
    "\n",
    "--> LTI Ratio helps categorize borrowers by risk.\n",
    "\n",
    "--> Banks can offer tailored loan terms and interest rates based on risk levels."
   ]
  }
 ],
 "metadata": {
  "colab": {
   "authorship_tag": "ABX9TyPVFi4XB/WnkqYK53nNehCr",
   "collapsed_sections": [],
   "mount_file_id": "1CEFiJUHarMxMFtKqrGaMaOTLggNRY-GW",
   "name": "Bài tập về nhà",
   "provenance": []
  },
  "kernelspec": {
   "display_name": "Python 3",
   "language": "python",
   "name": "python3"
  },
  "language_info": {
   "codemirror_mode": {
    "name": "ipython",
    "version": 3
   },
   "file_extension": ".py",
   "mimetype": "text/x-python",
   "name": "python",
   "nbconvert_exporter": "python",
   "pygments_lexer": "ipython3",
   "version": "3.11.9"
  }
 },
 "nbformat": 4,
 "nbformat_minor": 4
}
